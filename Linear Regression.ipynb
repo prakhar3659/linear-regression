{
 "cells": [
  {
   "cell_type": "markdown",
   "id": "7e5e1fb6-ba94-4995-bb14-54a6a952a6e6",
   "metadata": {},
   "source": [
    "My aim is to use data of test scores for students versus hours they have studied to create a predictive model."
   ]
  },
  {
   "cell_type": "markdown",
   "id": "3dbfa9a6-a193-483e-ac37-55d72bcd3047",
   "metadata": {},
   "source": [
    "I import libraries and modules necessary for linear regression- most importantly ols from statsmodel ."
   ]
  },
  {
   "cell_type": "code",
   "execution_count": 1,
   "id": "47c1bb9b-01b6-4cbd-b8b8-d0fee0c747f9",
   "metadata": {
    "tags": []
   },
   "outputs": [],
   "source": [
    "import pandas as pd\n",
    "import matplotlib.pyplot as plt\n",
    "import seaborn as sns\n",
    "import numpy as np\n",
    "import scipy.stats as stats"
   ]
  },
  {
   "cell_type": "code",
   "execution_count": 2,
   "id": "9e440020-da79-46dc-9e1a-cb0d85224a23",
   "metadata": {
    "tags": []
   },
   "outputs": [],
   "source": [
    "# Import the statsmodel module.\n",
    "import statsmodels.api as sm\n",
    "\n",
    "# Import the ols function from statsmodels.\n",
    "from statsmodels.formula.api import ols"
   ]
  },
  {
   "cell_type": "markdown",
   "id": "9341c682-140d-4ee3-9caf-5b038674bb03",
   "metadata": {},
   "source": [
    "I read in the data given use the read excel function of pandas library."
   ]
  },
  {
   "cell_type": "code",
   "execution_count": 3,
   "id": "fc546a1f-973f-4dd6-8139-1dba253e6c30",
   "metadata": {
    "tags": []
   },
   "outputs": [
    {
     "data": {
      "text/html": [
       "<div>\n",
       "<style scoped>\n",
       "    .dataframe tbody tr th:only-of-type {\n",
       "        vertical-align: middle;\n",
       "    }\n",
       "\n",
       "    .dataframe tbody tr th {\n",
       "        vertical-align: top;\n",
       "    }\n",
       "\n",
       "    .dataframe thead th {\n",
       "        text-align: right;\n",
       "    }\n",
       "</style>\n",
       "<table border=\"1\" class=\"dataframe\">\n",
       "  <thead>\n",
       "    <tr style=\"text-align: right;\">\n",
       "      <th></th>\n",
       "      <th>Hours</th>\n",
       "      <th>Scores</th>\n",
       "    </tr>\n",
       "  </thead>\n",
       "  <tbody>\n",
       "    <tr>\n",
       "      <th>0</th>\n",
       "      <td>2.5</td>\n",
       "      <td>21</td>\n",
       "    </tr>\n",
       "    <tr>\n",
       "      <th>1</th>\n",
       "      <td>5.1</td>\n",
       "      <td>47</td>\n",
       "    </tr>\n",
       "    <tr>\n",
       "      <th>2</th>\n",
       "      <td>3.2</td>\n",
       "      <td>27</td>\n",
       "    </tr>\n",
       "    <tr>\n",
       "      <th>3</th>\n",
       "      <td>8.5</td>\n",
       "      <td>75</td>\n",
       "    </tr>\n",
       "    <tr>\n",
       "      <th>4</th>\n",
       "      <td>3.5</td>\n",
       "      <td>30</td>\n",
       "    </tr>\n",
       "    <tr>\n",
       "      <th>5</th>\n",
       "      <td>1.5</td>\n",
       "      <td>20</td>\n",
       "    </tr>\n",
       "    <tr>\n",
       "      <th>6</th>\n",
       "      <td>9.2</td>\n",
       "      <td>88</td>\n",
       "    </tr>\n",
       "    <tr>\n",
       "      <th>7</th>\n",
       "      <td>5.5</td>\n",
       "      <td>60</td>\n",
       "    </tr>\n",
       "    <tr>\n",
       "      <th>8</th>\n",
       "      <td>8.3</td>\n",
       "      <td>81</td>\n",
       "    </tr>\n",
       "    <tr>\n",
       "      <th>9</th>\n",
       "      <td>2.7</td>\n",
       "      <td>25</td>\n",
       "    </tr>\n",
       "    <tr>\n",
       "      <th>10</th>\n",
       "      <td>7.7</td>\n",
       "      <td>85</td>\n",
       "    </tr>\n",
       "    <tr>\n",
       "      <th>11</th>\n",
       "      <td>5.9</td>\n",
       "      <td>62</td>\n",
       "    </tr>\n",
       "    <tr>\n",
       "      <th>12</th>\n",
       "      <td>4.5</td>\n",
       "      <td>41</td>\n",
       "    </tr>\n",
       "    <tr>\n",
       "      <th>13</th>\n",
       "      <td>3.3</td>\n",
       "      <td>42</td>\n",
       "    </tr>\n",
       "    <tr>\n",
       "      <th>14</th>\n",
       "      <td>1.1</td>\n",
       "      <td>17</td>\n",
       "    </tr>\n",
       "    <tr>\n",
       "      <th>15</th>\n",
       "      <td>8.9</td>\n",
       "      <td>95</td>\n",
       "    </tr>\n",
       "    <tr>\n",
       "      <th>16</th>\n",
       "      <td>2.5</td>\n",
       "      <td>30</td>\n",
       "    </tr>\n",
       "    <tr>\n",
       "      <th>17</th>\n",
       "      <td>1.9</td>\n",
       "      <td>24</td>\n",
       "    </tr>\n",
       "    <tr>\n",
       "      <th>18</th>\n",
       "      <td>6.1</td>\n",
       "      <td>67</td>\n",
       "    </tr>\n",
       "    <tr>\n",
       "      <th>19</th>\n",
       "      <td>7.4</td>\n",
       "      <td>69</td>\n",
       "    </tr>\n",
       "    <tr>\n",
       "      <th>20</th>\n",
       "      <td>2.7</td>\n",
       "      <td>30</td>\n",
       "    </tr>\n",
       "    <tr>\n",
       "      <th>21</th>\n",
       "      <td>4.8</td>\n",
       "      <td>54</td>\n",
       "    </tr>\n",
       "    <tr>\n",
       "      <th>22</th>\n",
       "      <td>3.8</td>\n",
       "      <td>35</td>\n",
       "    </tr>\n",
       "    <tr>\n",
       "      <th>23</th>\n",
       "      <td>6.9</td>\n",
       "      <td>76</td>\n",
       "    </tr>\n",
       "    <tr>\n",
       "      <th>24</th>\n",
       "      <td>8.6</td>\n",
       "      <td>86</td>\n",
       "    </tr>\n",
       "  </tbody>\n",
       "</table>\n",
       "</div>"
      ],
      "text/plain": [
       "    Hours  Scores\n",
       "0     2.5      21\n",
       "1     5.1      47\n",
       "2     3.2      27\n",
       "3     8.5      75\n",
       "4     3.5      30\n",
       "5     1.5      20\n",
       "6     9.2      88\n",
       "7     5.5      60\n",
       "8     8.3      81\n",
       "9     2.7      25\n",
       "10    7.7      85\n",
       "11    5.9      62\n",
       "12    4.5      41\n",
       "13    3.3      42\n",
       "14    1.1      17\n",
       "15    8.9      95\n",
       "16    2.5      30\n",
       "17    1.9      24\n",
       "18    6.1      67\n",
       "19    7.4      69\n",
       "20    2.7      30\n",
       "21    4.8      54\n",
       "22    3.8      35\n",
       "23    6.9      76\n",
       "24    8.6      86"
      ]
     },
     "execution_count": 3,
     "metadata": {},
     "output_type": "execute_result"
    }
   ],
   "source": [
    "data = pd.read_excel(\"C:\\\\Users\\\\BCCL\\\\Desktop\\\\hrs.xlsx\" )\n",
    "data"
   ]
  },
  {
   "cell_type": "markdown",
   "id": "6cd25530-a939-4eda-8698-ac4c0d4aaa11",
   "metadata": {},
   "source": [
    "I check for null values and generate a new dataframe with no null and duplicate values. It turns out to be unnecessary as data is very clean already."
   ]
  },
  {
   "cell_type": "code",
   "execution_count": 4,
   "id": "2d31a980-6bb7-423b-8794-18ffa4b43bc9",
   "metadata": {
    "tags": []
   },
   "outputs": [
    {
     "data": {
      "text/html": [
       "<div>\n",
       "<style scoped>\n",
       "    .dataframe tbody tr th:only-of-type {\n",
       "        vertical-align: middle;\n",
       "    }\n",
       "\n",
       "    .dataframe tbody tr th {\n",
       "        vertical-align: top;\n",
       "    }\n",
       "\n",
       "    .dataframe thead th {\n",
       "        text-align: right;\n",
       "    }\n",
       "</style>\n",
       "<table border=\"1\" class=\"dataframe\">\n",
       "  <thead>\n",
       "    <tr style=\"text-align: right;\">\n",
       "      <th></th>\n",
       "      <th>Hours</th>\n",
       "      <th>Scores</th>\n",
       "    </tr>\n",
       "  </thead>\n",
       "  <tbody>\n",
       "    <tr>\n",
       "      <th>0</th>\n",
       "      <td>2.5</td>\n",
       "      <td>21</td>\n",
       "    </tr>\n",
       "    <tr>\n",
       "      <th>1</th>\n",
       "      <td>5.1</td>\n",
       "      <td>47</td>\n",
       "    </tr>\n",
       "    <tr>\n",
       "      <th>2</th>\n",
       "      <td>3.2</td>\n",
       "      <td>27</td>\n",
       "    </tr>\n",
       "    <tr>\n",
       "      <th>3</th>\n",
       "      <td>8.5</td>\n",
       "      <td>75</td>\n",
       "    </tr>\n",
       "    <tr>\n",
       "      <th>4</th>\n",
       "      <td>3.5</td>\n",
       "      <td>30</td>\n",
       "    </tr>\n",
       "    <tr>\n",
       "      <th>5</th>\n",
       "      <td>1.5</td>\n",
       "      <td>20</td>\n",
       "    </tr>\n",
       "    <tr>\n",
       "      <th>6</th>\n",
       "      <td>9.2</td>\n",
       "      <td>88</td>\n",
       "    </tr>\n",
       "    <tr>\n",
       "      <th>7</th>\n",
       "      <td>5.5</td>\n",
       "      <td>60</td>\n",
       "    </tr>\n",
       "    <tr>\n",
       "      <th>8</th>\n",
       "      <td>8.3</td>\n",
       "      <td>81</td>\n",
       "    </tr>\n",
       "    <tr>\n",
       "      <th>9</th>\n",
       "      <td>2.7</td>\n",
       "      <td>25</td>\n",
       "    </tr>\n",
       "    <tr>\n",
       "      <th>10</th>\n",
       "      <td>7.7</td>\n",
       "      <td>85</td>\n",
       "    </tr>\n",
       "    <tr>\n",
       "      <th>11</th>\n",
       "      <td>5.9</td>\n",
       "      <td>62</td>\n",
       "    </tr>\n",
       "    <tr>\n",
       "      <th>12</th>\n",
       "      <td>4.5</td>\n",
       "      <td>41</td>\n",
       "    </tr>\n",
       "    <tr>\n",
       "      <th>13</th>\n",
       "      <td>3.3</td>\n",
       "      <td>42</td>\n",
       "    </tr>\n",
       "    <tr>\n",
       "      <th>14</th>\n",
       "      <td>1.1</td>\n",
       "      <td>17</td>\n",
       "    </tr>\n",
       "    <tr>\n",
       "      <th>15</th>\n",
       "      <td>8.9</td>\n",
       "      <td>95</td>\n",
       "    </tr>\n",
       "    <tr>\n",
       "      <th>16</th>\n",
       "      <td>2.5</td>\n",
       "      <td>30</td>\n",
       "    </tr>\n",
       "    <tr>\n",
       "      <th>17</th>\n",
       "      <td>1.9</td>\n",
       "      <td>24</td>\n",
       "    </tr>\n",
       "    <tr>\n",
       "      <th>18</th>\n",
       "      <td>6.1</td>\n",
       "      <td>67</td>\n",
       "    </tr>\n",
       "    <tr>\n",
       "      <th>19</th>\n",
       "      <td>7.4</td>\n",
       "      <td>69</td>\n",
       "    </tr>\n",
       "    <tr>\n",
       "      <th>20</th>\n",
       "      <td>2.7</td>\n",
       "      <td>30</td>\n",
       "    </tr>\n",
       "    <tr>\n",
       "      <th>21</th>\n",
       "      <td>4.8</td>\n",
       "      <td>54</td>\n",
       "    </tr>\n",
       "    <tr>\n",
       "      <th>22</th>\n",
       "      <td>3.8</td>\n",
       "      <td>35</td>\n",
       "    </tr>\n",
       "    <tr>\n",
       "      <th>23</th>\n",
       "      <td>6.9</td>\n",
       "      <td>76</td>\n",
       "    </tr>\n",
       "    <tr>\n",
       "      <th>24</th>\n",
       "      <td>8.6</td>\n",
       "      <td>86</td>\n",
       "    </tr>\n",
       "  </tbody>\n",
       "</table>\n",
       "</div>"
      ],
      "text/plain": [
       "    Hours  Scores\n",
       "0     2.5      21\n",
       "1     5.1      47\n",
       "2     3.2      27\n",
       "3     8.5      75\n",
       "4     3.5      30\n",
       "5     1.5      20\n",
       "6     9.2      88\n",
       "7     5.5      60\n",
       "8     8.3      81\n",
       "9     2.7      25\n",
       "10    7.7      85\n",
       "11    5.9      62\n",
       "12    4.5      41\n",
       "13    3.3      42\n",
       "14    1.1      17\n",
       "15    8.9      95\n",
       "16    2.5      30\n",
       "17    1.9      24\n",
       "18    6.1      67\n",
       "19    7.4      69\n",
       "20    2.7      30\n",
       "21    4.8      54\n",
       "22    3.8      35\n",
       "23    6.9      76\n",
       "24    8.6      86"
      ]
     },
     "execution_count": 4,
     "metadata": {},
     "output_type": "execute_result"
    }
   ],
   "source": [
    "data = data.dropna(subset = ['Hours', 'Scores' ], axis = 0)\n",
    "data"
   ]
  },
  {
   "cell_type": "code",
   "execution_count": 5,
   "id": "7c58496e-b777-48d9-b601-202115ca5d17",
   "metadata": {
    "tags": []
   },
   "outputs": [
    {
     "data": {
      "text/plain": [
       "Text(0.5, 1.0, 'Student Data of Marks and Hours')"
      ]
     },
     "execution_count": 5,
     "metadata": {},
     "output_type": "execute_result"
    },
    {
     "data": {
      "image/png": "[encoded data removed]",
      "text/plain": [
       "<Figure size 600x450 with 1 Axes>"
      ]
     },
     "metadata": {},
     "output_type": "display_data"
    }
   ],
   "source": [
    "plt.figure(figsize=(6,4.5))\n",
    "plt.scatter(data['Hours'], data['Scores'], color='orange', label='Data points', s= 12)\n",
    "plt.xlabel('Hours studied')\n",
    "plt.ylabel('Marks scored')\n",
    "plt.title('Student Data of Marks and Hours')"
   ]
  },
  {
   "cell_type": "markdown",
   "id": "0d9d2e5e-424f-432c-b82d-e1d98e7e2d4d",
   "metadata": {},
   "source": [
    "As x variable increases the y value also increases so there is a strong linear relationship."
   ]
  },
  {
   "cell_type": "markdown",
   "id": "70833391-b86a-4aa2-8acd-d5be2b744d1f",
   "metadata": {},
   "source": [
    "I define the linear regression relationship and fit the model. There is very little data hence I dont want to split into train and test data sets. I use all the points."
   ]
  },
  {
   "cell_type": "code",
   "execution_count": 6,
   "id": "76b034e1-4da4-47ed-8ab2-9972be115c7a",
   "metadata": {
    "tags": []
   },
   "outputs": [],
   "source": [
    "\n",
    "ols_formula = 'Scores ~ Hours'\n",
    "\n",
    "# Create an OLS model.\n",
    "OLS = ols(formula = ols_formula, data = data)\n",
    "\n",
    "# Fit the model.\n",
    "model = OLS.fit()\n",
    "\n"
   ]
  },
  {
   "cell_type": "markdown",
   "id": "7be1ceba-8dfe-4bbe-9892-354123cd742d",
   "metadata": {},
   "source": [
    "Model is created. Now I use the params attributes of the models to get the slope and intercept of regression line. This is useful for predicting other values later on."
   ]
  },
  {
   "cell_type": "code",
   "execution_count": 7,
   "id": "ed62ae80-b242-4726-8b44-2fc5fee8411c",
   "metadata": {
    "tags": []
   },
   "outputs": [],
   "source": [
    "intercept, slope = model.params\n",
    "\n",
    "x_line = np.linspace(data['Hours'].min(), data['Hours'].max()+2, 100)\n",
    "y_line = intercept + slope * x_line"
   ]
  },
  {
   "cell_type": "markdown",
   "id": "7c2daafe-5017-4960-9b1e-a68be00cc044",
   "metadata": {},
   "source": [
    "I plot the regression line in blue."
   ]
  },
  {
   "cell_type": "code",
   "execution_count": 8,
   "id": "c08acbcb-ecf1-4b04-bb35-1268fcf8f809",
   "metadata": {
    "tags": []
   },
   "outputs": [
    {
     "data": {
      "text/plain": [
       "<matplotlib.legend.Legend at 0x20943b27410>"
      ]
     },
     "execution_count": 8,
     "metadata": {},
     "output_type": "execute_result"
    },
    {
     "data": {
      "image/png": "[encoded data removed]",
      "text/plain": [
       "<Figure size 600x450 with 1 Axes>"
      ]
     },
     "metadata": {},
     "output_type": "display_data"
    }
   ],
   "source": [
    "plt.figure(figsize=(6,4.5))\n",
    "plt.scatter(data['Hours'], data['Scores'], color='orange', label='Data points', s= 9)\n",
    "plt.plot(x_line, y_line, color='blue', label='Regression line')\n",
    "plt.xlabel('Hours')\n",
    "plt.ylabel('Score')\n",
    "plt.title('Linear Regression')\n",
    "plt.legend()"
   ]
  },
  {
   "cell_type": "markdown",
   "id": "74f37e8e-8984-4052-8d47-a7a9c591d74b",
   "metadata": {},
   "source": [
    "Now we move on to the evaluation part of the regression model. How well does the line explain the variability in points (R-squared), what is the statistical significance of parameter values obtained are all analyzed using model_results."
   ]
  },
  {
   "cell_type": "code",
   "execution_count": 14,
   "id": "4c84bff4-e341-448d-8bb7-0d2307ef8e98",
   "metadata": {
    "tags": []
   },
   "outputs": [
    {
     "data": {
      "text/html": [
       "<table class=\"simpletable\">\n",
       "<caption>OLS Regression Results</caption>\n",
       "<tr>\n",
       "  <th>Dep. Variable:</th>         <td>Scores</td>      <th>  R-squared:         </th> <td>   0.957</td>\n",
       "</tr>\n",
       "<tr>\n",
       "  <th>Model:</th>                   <td>OLS</td>       <th>  Adj. R-squared:    </th> <td>   0.955</td>\n",
       "</tr>\n",
       "<tr>\n",
       "  <th>Method:</th>             <td>Least Squares</td>  <th>  F-statistic:       </th> <td>   508.5</td>\n",
       "</tr>\n",
       "<tr>\n",
       "  <th>Date:</th>             <td>Thu, 14 Mar 2024</td> <th>  Prob (F-statistic):</th> <td>3.48e-17</td>\n",
       "</tr>\n",
       "<tr>\n",
       "  <th>Time:</th>                 <td>02:12:02</td>     <th>  Log-Likelihood:    </th> <td> -76.468</td>\n",
       "</tr>\n",
       "<tr>\n",
       "  <th>No. Observations:</th>      <td>    25</td>      <th>  AIC:               </th> <td>   156.9</td>\n",
       "</tr>\n",
       "<tr>\n",
       "  <th>Df Residuals:</th>          <td>    23</td>      <th>  BIC:               </th> <td>   159.4</td>\n",
       "</tr>\n",
       "<tr>\n",
       "  <th>Df Model:</th>              <td>     1</td>      <th>                     </th>     <td> </td>   \n",
       "</tr>\n",
       "<tr>\n",
       "  <th>Covariance Type:</th>      <td>nonrobust</td>    <th>                     </th>     <td> </td>   \n",
       "</tr>\n",
       "</table>\n",
       "<table class=\"simpletable\">\n",
       "<tr>\n",
       "      <td></td>         <th>coef</th>     <th>std err</th>      <th>t</th>      <th>P>|t|</th>  <th>[0.025</th>    <th>0.975]</th>  \n",
       "</tr>\n",
       "<tr>\n",
       "  <th>Intercept</th> <td>    2.8727</td> <td>    2.409</td> <td>    1.193</td> <td> 0.245</td> <td>   -2.110</td> <td>    7.855</td>\n",
       "</tr>\n",
       "<tr>\n",
       "  <th>Hours</th>     <td>    9.6367</td> <td>    0.427</td> <td>   22.550</td> <td> 0.000</td> <td>    8.753</td> <td>   10.521</td>\n",
       "</tr>\n",
       "</table>\n",
       "<table class=\"simpletable\">\n",
       "<tr>\n",
       "  <th>Omnibus:</th>       <td> 6.236</td> <th>  Durbin-Watson:     </th> <td>   1.640</td>\n",
       "</tr>\n",
       "<tr>\n",
       "  <th>Prob(Omnibus):</th> <td> 0.044</td> <th>  Jarque-Bera (JB):  </th> <td>   1.872</td>\n",
       "</tr>\n",
       "<tr>\n",
       "  <th>Skew:</th>          <td>-0.129</td> <th>  Prob(JB):          </th> <td>   0.392</td>\n",
       "</tr>\n",
       "<tr>\n",
       "  <th>Kurtosis:</th>      <td> 1.685</td> <th>  Cond. No.          </th> <td>    13.0</td>\n",
       "</tr>\n",
       "</table><br/><br/>Notes:<br/>[1] Standard Errors assume that the covariance matrix of the errors is correctly specified."
      ],
      "text/latex": [
       "\\begin{center}\n",
       "\\begin{tabular}{lclc}\n",
       "\\toprule\n",
       "\\textbf{Dep. Variable:}    &      Scores      & \\textbf{  R-squared:         } &     0.957   \\\\\n",
       "\\textbf{Model:}            &       OLS        & \\textbf{  Adj. R-squared:    } &     0.955   \\\\\n",
       "\\textbf{Method:}           &  Least Squares   & \\textbf{  F-statistic:       } &     508.5   \\\\\n",
       "\\textbf{Date:}             & Thu, 14 Mar 2024 & \\textbf{  Prob (F-statistic):} &  3.48e-17   \\\\\n",
       "\\textbf{Time:}             &     02:12:02     & \\textbf{  Log-Likelihood:    } &   -76.468   \\\\\n",
       "\\textbf{No. Observations:} &          25      & \\textbf{  AIC:               } &     156.9   \\\\\n",
       "\\textbf{Df Residuals:}     &          23      & \\textbf{  BIC:               } &     159.4   \\\\\n",
       "\\textbf{Df Model:}         &           1      & \\textbf{                     } &             \\\\\n",
       "\\textbf{Covariance Type:}  &    nonrobust     & \\textbf{                     } &             \\\\\n",
       "\\bottomrule\n",
       "\\end{tabular}\n",
       "\\begin{tabular}{lcccccc}\n",
       "                   & \\textbf{coef} & \\textbf{std err} & \\textbf{t} & \\textbf{P$> |$t$|$} & \\textbf{[0.025} & \\textbf{0.975]}  \\\\\n",
       "\\midrule\n",
       "\\textbf{Intercept} &       2.8727  &        2.409     &     1.193  &         0.245        &       -2.110    &        7.855     \\\\\n",
       "\\textbf{Hours}     &       9.6367  &        0.427     &    22.550  &         0.000        &        8.753    &       10.521     \\\\\n",
       "\\bottomrule\n",
       "\\end{tabular}\n",
       "\\begin{tabular}{lclc}\n",
       "\\textbf{Omnibus:}       &  6.236 & \\textbf{  Durbin-Watson:     } &    1.640  \\\\\n",
       "\\textbf{Prob(Omnibus):} &  0.044 & \\textbf{  Jarque-Bera (JB):  } &    1.872  \\\\\n",
       "\\textbf{Skew:}          & -0.129 & \\textbf{  Prob(JB):          } &    0.392  \\\\\n",
       "\\textbf{Kurtosis:}      &  1.685 & \\textbf{  Cond. No.          } &     13.0  \\\\\n",
       "\\bottomrule\n",
       "\\end{tabular}\n",
       "%\\caption{OLS Regression Results}\n",
       "\\end{center}\n",
       "\n",
       "Notes: \\newline\n",
       " [1] Standard Errors assume that the covariance matrix of the errors is correctly specified."
      ],
      "text/plain": [
       "<class 'statsmodels.iolib.summary.Summary'>\n",
       "\"\"\"\n",
       "                            OLS Regression Results                            \n",
       "==============================================================================\n",
       "Dep. Variable:                 Scores   R-squared:                       0.957\n",
       "Model:                            OLS   Adj. R-squared:                  0.955\n",
       "Method:                 Least Squares   F-statistic:                     508.5\n",
       "Date:                Thu, 14 Mar 2024   Prob (F-statistic):           3.48e-17\n",
       "Time:                        02:12:02   Log-Likelihood:                -76.468\n",
       "No. Observations:                  25   AIC:                             156.9\n",
       "Df Residuals:                      23   BIC:                             159.4\n",
       "Df Model:                           1                                         \n",
       "Covariance Type:            nonrobust                                         \n",
       "==============================================================================\n",
       "                 coef    std err          t      P>|t|      [0.025      0.975]\n",
       "------------------------------------------------------------------------------\n",
       "Intercept      2.8727      2.409      1.193      0.245      -2.110       7.855\n",
       "Hours          9.6367      0.427     22.550      0.000       8.753      10.521\n",
       "==============================================================================\n",
       "Omnibus:                        6.236   Durbin-Watson:                   1.640\n",
       "Prob(Omnibus):                  0.044   Jarque-Bera (JB):                1.872\n",
       "Skew:                          -0.129   Prob(JB):                        0.392\n",
       "Kurtosis:                       1.685   Cond. No.                         13.0\n",
       "==============================================================================\n",
       "\n",
       "Notes:\n",
       "[1] Standard Errors assume that the covariance matrix of the errors is correctly specified.\n",
       "\"\"\""
      ]
     },
     "execution_count": 14,
     "metadata": {},
     "output_type": "execute_result"
    }
   ],
   "source": [
    "model.summary()"
   ]
  },
  {
   "cell_type": "markdown",
   "id": "7e5e6c67-81bd-41c4-af11-f913cf4bbee8",
   "metadata": {},
   "source": [
    "The R-squared statistic is the primary metric of interest. Its value is 0.957 which is very close to 1. The p value for the slope is also 0 which is perfect- indicating a very strong linear relationship. Our model performs very well."
   ]
  },
  {
   "cell_type": "markdown",
   "id": "4b8fecf4-c3f5-4de7-93ae-65f3b691605b",
   "metadata": {},
   "source": [
    "We know want to predict the value of marks for number of hours studied using our linear regression model. \n",
    "For further clarity, we want to make an offset to the x axis for the requested value of x=9.25 ."
   ]
  },
  {
   "cell_type": "code",
   "execution_count": 16,
   "id": "6f4f222d-5fa4-42ec-8fda-7f254862fb22",
   "metadata": {
    "tags": []
   },
   "outputs": [
    {
     "data": {
      "image/png": "[encoded data removed]",
      "text/plain": [
       "<Figure size 600x450 with 1 Axes>"
      ]
     },
     "metadata": {},
     "output_type": "display_data"
    }
   ],
   "source": [
    "plt.figure(figsize=(6, 4.5))\n",
    "plt.scatter(data['Hours'], data['Scores'], color='orange', label='Data points', s= 9)\n",
    "plt.plot(x_line, y_line, color='blue', label='Regression line')\n",
    "plt.xlabel('Hours')\n",
    "plt.ylabel('Score')\n",
    "plt.title('Linear Regression')\n",
    "plt.legend()\n",
    "x_value = 9.25\n",
    "\n",
    "# Predict the y value\n",
    "y_value = intercept + slope * x_value\n",
    "\n",
    "# Plot the predicted point\n",
    "plt.scatter(x_value, y_value, color='blue', label='Predicted value', linestyle='dotted')\n",
    "plt.annotate(f'({x_value}, {y_value:.2f})', (x_value, y_value), textcoords=\"offset points\", xytext=(0,10), ha='center')\n",
    "plt.plot([x_value, x_value], [y_value, 0], color='blue', linestyle='dotted', alpha=0.5)\n",
    "\n",
    "# Show plot\n",
    "plt.show()"
   ]
  },
  {
   "cell_type": "markdown",
   "id": "d00e67b6-bf72-4493-8feb-4ceeed3b8d3a",
   "metadata": {},
   "source": [
    "We obtain a predicted score of 92.01 for x = 9.25 hours using our model. This is the final answer."
   ]
  },
  {
   "cell_type": "markdown",
   "id": "71694c14-2259-4cd8-b875-46c9fb24b8ab",
   "metadata": {
    "tags": []
   },
   "source": [
    "We can make a general function to get y values based on our regression model applied to x values."
   ]
  },
  {
   "cell_type": "code",
   "execution_count": 17,
   "id": "80a6f860-fb60-4ce6-b70f-00ca902ce234",
   "metadata": {
    "tags": []
   },
   "outputs": [],
   "source": [
    "def predict(x):\n",
    "    print('Predicted Marks Scored:', '{:.2f}'.format(intercept + slope * x))\n",
    "    \n"
   ]
  },
  {
   "cell_type": "code",
   "execution_count": 18,
   "id": "f4bcf1ed-6e05-4700-887a-1e642d2eedcb",
   "metadata": {
    "tags": []
   },
   "outputs": [
    {
     "name": "stdout",
     "output_type": "stream",
     "text": [
      "Predicted Marks Scored: 92.01\n"
     ]
    }
   ],
   "source": [
    "predict(9.25)"
   ]
  },
  {
   "cell_type": "markdown",
   "id": "f0b0ceb0-6a4f-415f-be08-296601ebabd6",
   "metadata": {},
   "source": [
    "Thus function can be used for any value of hours studied to get predicted value of score."
   ]
  },
  {
   "cell_type": "markdown",
   "id": "2c99987e-193a-46d5-99b0-a4eb9ae35f02",
   "metadata": {
    "tags": []
   },
   "source": [
    "Further analysis:"
   ]
  },
  {
   "cell_type": "markdown",
   "id": "a49784ac-ad50-4cae-9816-1dfba644f8da",
   "metadata": {},
   "source": [
    "When we applied linear regression model to data, it was based on the implicit assumption that data follows certain properties. Now that we have a good model, our job is to check if the assumptions actually hold true or not as a final step. This is done in 2 ways-"
   ]
  },
  {
   "cell_type": "markdown",
   "id": "4fe61ada-3654-46a0-b08b-81c96e7feba3",
   "metadata": {},
   "source": [
    "1.Q-Q Plots(Quantile-Quantile Plots):"
   ]
  },
  {
   "cell_type": "code",
   "execution_count": 95,
   "id": "bf142c79-43be-40e1-a805-2d5313d99576",
   "metadata": {
    "tags": []
   },
   "outputs": [
    {
     "data": {
      "text/html": [
       "<div>\n",
       "<style scoped>\n",
       "    .dataframe tbody tr th:only-of-type {\n",
       "        vertical-align: middle;\n",
       "    }\n",
       "\n",
       "    .dataframe tbody tr th {\n",
       "        vertical-align: top;\n",
       "    }\n",
       "\n",
       "    .dataframe thead th {\n",
       "        text-align: right;\n",
       "    }\n",
       "</style>\n",
       "<table border=\"1\" class=\"dataframe\">\n",
       "  <thead>\n",
       "    <tr style=\"text-align: right;\">\n",
       "      <th></th>\n",
       "      <th>Hours</th>\n",
       "      <th>Scores</th>\n",
       "      <th>pred</th>\n",
       "    </tr>\n",
       "  </thead>\n",
       "  <tbody>\n",
       "    <tr>\n",
       "      <th>0</th>\n",
       "      <td>2.5</td>\n",
       "      <td>21</td>\n",
       "      <td>26.964327</td>\n",
       "    </tr>\n",
       "    <tr>\n",
       "      <th>1</th>\n",
       "      <td>5.1</td>\n",
       "      <td>47</td>\n",
       "      <td>52.019653</td>\n",
       "    </tr>\n",
       "    <tr>\n",
       "      <th>2</th>\n",
       "      <td>3.2</td>\n",
       "      <td>27</td>\n",
       "      <td>33.709992</td>\n",
       "    </tr>\n",
       "    <tr>\n",
       "      <th>3</th>\n",
       "      <td>8.5</td>\n",
       "      <td>75</td>\n",
       "      <td>84.784311</td>\n",
       "    </tr>\n",
       "    <tr>\n",
       "      <th>4</th>\n",
       "      <td>3.5</td>\n",
       "      <td>30</td>\n",
       "      <td>36.600991</td>\n",
       "    </tr>\n",
       "    <tr>\n",
       "      <th>5</th>\n",
       "      <td>1.5</td>\n",
       "      <td>20</td>\n",
       "      <td>17.327663</td>\n",
       "    </tr>\n",
       "    <tr>\n",
       "      <th>6</th>\n",
       "      <td>9.2</td>\n",
       "      <td>88</td>\n",
       "      <td>91.529976</td>\n",
       "    </tr>\n",
       "    <tr>\n",
       "      <th>7</th>\n",
       "      <td>5.5</td>\n",
       "      <td>60</td>\n",
       "      <td>55.874319</td>\n",
       "    </tr>\n",
       "    <tr>\n",
       "      <th>8</th>\n",
       "      <td>8.3</td>\n",
       "      <td>81</td>\n",
       "      <td>82.856978</td>\n",
       "    </tr>\n",
       "    <tr>\n",
       "      <th>9</th>\n",
       "      <td>2.7</td>\n",
       "      <td>25</td>\n",
       "      <td>28.891660</td>\n",
       "    </tr>\n",
       "    <tr>\n",
       "      <th>10</th>\n",
       "      <td>7.7</td>\n",
       "      <td>85</td>\n",
       "      <td>77.074980</td>\n",
       "    </tr>\n",
       "    <tr>\n",
       "      <th>11</th>\n",
       "      <td>5.9</td>\n",
       "      <td>62</td>\n",
       "      <td>59.728984</td>\n",
       "    </tr>\n",
       "    <tr>\n",
       "      <th>12</th>\n",
       "      <td>4.5</td>\n",
       "      <td>41</td>\n",
       "      <td>46.237655</td>\n",
       "    </tr>\n",
       "    <tr>\n",
       "      <th>13</th>\n",
       "      <td>3.3</td>\n",
       "      <td>42</td>\n",
       "      <td>34.673658</td>\n",
       "    </tr>\n",
       "    <tr>\n",
       "      <th>14</th>\n",
       "      <td>1.1</td>\n",
       "      <td>17</td>\n",
       "      <td>13.472997</td>\n",
       "    </tr>\n",
       "    <tr>\n",
       "      <th>15</th>\n",
       "      <td>8.9</td>\n",
       "      <td>95</td>\n",
       "      <td>88.638976</td>\n",
       "    </tr>\n",
       "    <tr>\n",
       "      <th>16</th>\n",
       "      <td>2.5</td>\n",
       "      <td>30</td>\n",
       "      <td>26.964327</td>\n",
       "    </tr>\n",
       "    <tr>\n",
       "      <th>17</th>\n",
       "      <td>1.9</td>\n",
       "      <td>24</td>\n",
       "      <td>21.182328</td>\n",
       "    </tr>\n",
       "    <tr>\n",
       "      <th>18</th>\n",
       "      <td>6.1</td>\n",
       "      <td>67</td>\n",
       "      <td>61.656317</td>\n",
       "    </tr>\n",
       "    <tr>\n",
       "      <th>19</th>\n",
       "      <td>7.4</td>\n",
       "      <td>69</td>\n",
       "      <td>74.183980</td>\n",
       "    </tr>\n",
       "    <tr>\n",
       "      <th>20</th>\n",
       "      <td>2.7</td>\n",
       "      <td>30</td>\n",
       "      <td>28.891660</td>\n",
       "    </tr>\n",
       "    <tr>\n",
       "      <th>21</th>\n",
       "      <td>4.8</td>\n",
       "      <td>54</td>\n",
       "      <td>49.128654</td>\n",
       "    </tr>\n",
       "    <tr>\n",
       "      <th>22</th>\n",
       "      <td>3.8</td>\n",
       "      <td>35</td>\n",
       "      <td>39.491990</td>\n",
       "    </tr>\n",
       "    <tr>\n",
       "      <th>23</th>\n",
       "      <td>6.9</td>\n",
       "      <td>76</td>\n",
       "      <td>69.365648</td>\n",
       "    </tr>\n",
       "    <tr>\n",
       "      <th>24</th>\n",
       "      <td>8.6</td>\n",
       "      <td>86</td>\n",
       "      <td>85.747977</td>\n",
       "    </tr>\n",
       "  </tbody>\n",
       "</table>\n",
       "</div>"
      ],
      "text/plain": [
       "    Hours  Scores       pred\n",
       "0     2.5      21  26.964327\n",
       "1     5.1      47  52.019653\n",
       "2     3.2      27  33.709992\n",
       "3     8.5      75  84.784311\n",
       "4     3.5      30  36.600991\n",
       "5     1.5      20  17.327663\n",
       "6     9.2      88  91.529976\n",
       "7     5.5      60  55.874319\n",
       "8     8.3      81  82.856978\n",
       "9     2.7      25  28.891660\n",
       "10    7.7      85  77.074980\n",
       "11    5.9      62  59.728984\n",
       "12    4.5      41  46.237655\n",
       "13    3.3      42  34.673658\n",
       "14    1.1      17  13.472997\n",
       "15    8.9      95  88.638976\n",
       "16    2.5      30  26.964327\n",
       "17    1.9      24  21.182328\n",
       "18    6.1      67  61.656317\n",
       "19    7.4      69  74.183980\n",
       "20    2.7      30  28.891660\n",
       "21    4.8      54  49.128654\n",
       "22    3.8      35  39.491990\n",
       "23    6.9      76  69.365648\n",
       "24    8.6      86  85.747977"
      ]
     },
     "execution_count": 95,
     "metadata": {},
     "output_type": "execute_result"
    }
   ],
   "source": [
    "data['pred'] = intercept + slope * data['Hours']\n",
    "data"
   ]
  },
  {
   "cell_type": "markdown",
   "id": "9853c0a3-6160-4858-86b3-946031dda049",
   "metadata": {},
   "source": [
    "Q-Q plots can be used to visually assess if your data follows a specific distribution. For linear regression assumptions, you would typically compare the quantiles of your residuals (observed data minus predicted values) against the quantiles of a normal distribution. If the points fall approximately along a straight line, it suggests that the residuals are normally distributed, which is a key assumption of linear regression."
   ]
  },
  {
   "cell_type": "code",
   "execution_count": 96,
   "id": "d7abd8b1-c72c-4a99-af75-bae466b7e805",
   "metadata": {
    "tags": []
   },
   "outputs": [],
   "source": [
    "observed_data= np.array(data['Scores'].tolist())\n",
    "predicted_values= np.array(data['pred'].tolist())"
   ]
  },
  {
   "cell_type": "code",
   "execution_count": 97,
   "id": "403b307e-ef35-4a3d-90c0-e6dad8937047",
   "metadata": {
    "tags": []
   },
   "outputs": [
    {
     "data": {
      "image/png": "[encoded data removed]",
      "text/plain": [
       "<Figure size 640x480 with 1 Axes>"
      ]
     },
     "metadata": {},
     "output_type": "display_data"
    }
   ],
   "source": [
    "residuals = observed_data - predicted_values\n",
    "\n",
    "# Create Q-Q plot\n",
    "stats.probplot(residuals, dist=\"norm\", plot=plt)\n",
    "plt.xlabel('Theoretical Quantiles')\n",
    "plt.ylabel('Sample Quantiles')\n",
    "plt.title('Q-Q Plot')\n",
    "plt.show()\n"
   ]
  },
  {
   "cell_type": "markdown",
   "id": "49fa7e95-5147-42cd-a1d0-b83d0d9736c4",
   "metadata": {},
   "source": [
    "Points do not deviate much from the line hence normally distributed residuals assumption of regression is validated."
   ]
  },
  {
   "cell_type": "markdown",
   "id": "1bbc4e05-f94d-4d97-807a-7c658e22a90c",
   "metadata": {},
   "source": [
    "2.Plotting Residuals: "
   ]
  },
  {
   "cell_type": "markdown",
   "id": "00b174d0-1c62-4d10-a580-31805fa64f76",
   "metadata": {},
   "source": [
    "Another way to check the linear regression assumption is to plot the residuals against the predicted values or any independent variables. The residuals should be randomly distributed around zero, with no clear pattern or trend. If there is a pattern (e.g., the residuals form a curve or have a systematic increase or decrease), it suggests that the linear regression assumption may not hold."
   ]
  },
  {
   "cell_type": "code",
   "execution_count": 98,
   "id": "d53c603f-9725-4ddb-95fb-d98162a2b28a",
   "metadata": {
    "tags": []
   },
   "outputs": [
    {
     "data": {
      "image/png": "[encoded data removed]",
      "text/plain": [
       "<Figure size 640x480 with 1 Axes>"
      ]
     },
     "metadata": {},
     "output_type": "display_data"
    }
   ],
   "source": [
    "plt.scatter(predicted_values, residuals)\n",
    "plt.axhline(y=0, color='r', linestyle='--')\n",
    "plt.xlabel('Predicted Values')\n",
    "plt.ylabel('Residuals')\n",
    "plt.title('Residual Plot')\n",
    "plt.show()\n"
   ]
  },
  {
   "cell_type": "markdown",
   "id": "7f69a680-2883-4a3d-9a36-ae8c8f816782",
   "metadata": {},
   "source": [
    "No regular pattern observed- hence linearity assumption is validated."
   ]
  },
  {
   "cell_type": "markdown",
   "id": "9b255464-dfcc-40b0-a7b4-fc3e37dd2011",
   "metadata": {},
   "source": [
    "Now we have a good model and we have cross checked data as well for all assumptions completing our analysis."
   ]
  },
  {
   "cell_type": "code",
   "execution_count": null,
   "id": "aacfcef3-f584-498d-be4e-038cb9423a04",
   "metadata": {},
   "outputs": [],
   "source": []
  }
 ],
 "metadata": {
  "kernelspec": {
   "display_name": "Python 3 (ipykernel)",
   "language": "python",
   "name": "python3"
  },
  "language_info": {
   "codemirror_mode": {
    "name": "ipython",
    "version": 3
   },
   "file_extension": ".py",
   "mimetype": "text/x-python",
   "name": "python",
   "nbconvert_exporter": "python",
   "pygments_lexer": "ipython3",
   "version": "3.11.5"
  }
 },
 "nbformat": 4,
 "nbformat_minor": 5
}
